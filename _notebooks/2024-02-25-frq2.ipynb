{
 "cells": [
  {
   "cell_type": "markdown",
   "metadata": {},
   "source": [
    "---\n",
    "toc: true\n",
    "layout: post\n",
    "title: 2015 FRQ 2\n",
    "description: My answers for FRQ 2\n",
    "type: hacks\n",
    "courses: { csa: {week: 24} }\n",
    "authors: Ethan Tran\n",
    "comments: true\n",
    "---"
   ]
  },
  {
   "cell_type": "markdown",
   "metadata": {},
   "source": [
    "Consider a guessing game in which a player tries to guess a hidden word. The hidden word contains only capital letters and has a length known to the player. A guess contains only capital letters and has the same length as the hidden word.\n",
    "\n",
    "After a guess is made, the player is given a hint that is based on a comparison between the hidden word and the guess. Each position in the hint contains a character that corresponds to the letter in the same position in the guess. The following rules determine the characters that appear in the hint.\n",
    "\n",
    "![Image](https://github.com/nighthawkcoders/teacher_portfolio/assets/109186517/2df6fb97-7cd7-431b-a3e2-0ad8868c8aab)\n",
    "\n",
    "The HiddenWord class will be used to represent the hidden word in the game. The hidden word is passed to the constructor. The class contains a method, getHint, that takes a guess and produces a hint.\n",
    "\n",
    "For example, suppose the variable puzzle is declared as follows.\n",
    "\n",
    "\n",
    "\n",
    "HiddenWord puzzle = new HiddenWord(\"HARPS\");\n",
    "\n",
    "\n",
    "The following table shows several guesses and the hints that would be produced.\n",
    "\n",
    "![Image](https://github.com/nighthawkcoders/teacher_portfolio/assets/109186517/48f24fc3-92be-49c6-8861-e95ee7af6f72)\n",
    "\n",
    "Write the complete HiddenWord class, including any necessary instance variables, its constructor, and the method, getHint, described above. You may assume that the length of the guess is the same as the length of the hidden word.\n",
    "\n"
   ]
  },
  {
   "cell_type": "code",
   "execution_count": 1,
   "metadata": {
    "vscode": {
     "languageId": "java"
    }
   },
   "outputs": [
    {
     "name": "stdout",
     "output_type": "stream",
     "text": [
      "+A+++\n",
      "H****\n",
      "H*++*\n",
      "HAR*S\n",
      "HARPS\n"
     ]
    }
   ],
   "source": [
    "public class HiddenWord {\n",
    "    private String word;\n",
    "\n",
    "    public HiddenWord(String word) {\n",
    "        this.word = word;\n",
    "    }\n",
    "\n",
    "    public String getHint(String guess) {\n",
    "        StringBuilder hint = new StringBuilder();\n",
    "    \n",
    "for (int i = 0; i < word.length(); i++) { // iterate over each character in the guess string\n",
    "    // get the guessed letter at position i\n",
    "    char guessedLetter = guess.charAt(i);\n",
    "    // get the corresponding actual letter from the word at position i\n",
    "    char actualLetter = word.charAt(i);\n",
    "\n",
    "    \n",
    "            if (guessedLetter == actualLetter) {\n",
    "                hint.append(actualLetter); // matched letter\n",
    "            } else if (word.indexOf(guessedLetter) != -1) {\n",
    "                hint.append('+'); // letter exists but not same position\n",
    "            } else {\n",
    "                hint.append('*'); // letter not in hidden word\n",
    "            }\n",
    "        }\n",
    "        return hint.toString();\n",
    "    }    \n",
    "\n",
    "    public static void main(String[] args) {\n",
    "        // hidden word from College Board\n",
    "        HiddenWord puzzle = new HiddenWord(\"HARPS\");\n",
    "\n",
    "        // testing calls to get hints\n",
    "        System.out.println(puzzle.getHint(\"AAAAA\")); \n",
    "        System.out.println(puzzle.getHint(\"HELLO\"));   \n",
    "        System.out.println(puzzle.getHint(\"HEART\"));   \n",
    "        System.out.println(puzzle.getHint(\"HARMS\")); \n",
    "        System.out.println(puzzle.getHint(\"HARPS\"));   \n",
    "    }\n",
    "}\n",
    "HiddenWord.main(null);"
   ]
  }
 ],
 "metadata": {
  "kernelspec": {
   "display_name": "Java",
   "language": "java",
   "name": "java"
  },
  "language_info": {
   "codemirror_mode": "java",
   "file_extension": ".jshell",
   "mimetype": "text/x-java-source",
   "name": "Java",
   "pygments_lexer": "java",
   "version": "17.0.8.1+1-Ubuntu-0ubuntu120.04"
  }
 },
 "nbformat": 4,
 "nbformat_minor": 2
}
