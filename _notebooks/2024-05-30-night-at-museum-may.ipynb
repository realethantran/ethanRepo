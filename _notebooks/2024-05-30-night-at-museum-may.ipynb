{
 "cells": [
  {
   "cell_type": "markdown",
   "metadata": {},
   "source": [
    "---\n",
    "toc: true\n",
    "comments: false\n",
    "layout: post\n",
    "title: Final Night at the Museum 2024\n",
    "description: Blog about my final N@M experience at Del Norte Night School for Junior year!\n",
    "type: hacks\n",
    "courses: { csa: {week: 33} }\n",
    "---"
   ]
  },
  {
   "cell_type": "markdown",
   "metadata": {},
   "source": [
    "# Night at the Museum (N@M)\n",
    "\n",
    "## Description\n",
    "Night at the Museum is an event that occurs every trimester at Del Norte High School. This event provides students from various classes the opportunity to showcase their art and work from throughout the trimester. A variety of work is up for display at Night at the Museum, ranging from Digital Mixed Media videos, Computer Science projects, photography, art, and even musical performances.\n",
    "\n",
    "## Summary\n",
    "I look forward to Night at the Museum each trimester because it provides me with the opportunity to show all of the hard work that I have put into my project(s) from that trimester to various people from different ages and backgrounds. I appreciate how the event allows me to also view the work of my peers and be able to see the work and ideas of other students at Del Norte. This trimester, I got to work and present with a much larger team than usual consisting of 13 members. As a result, presentations were broken up between different features that each team presented.\n",
    "\n",
    "## My Team (CSA-AI)\n",
    "\n",
    "<html>\n",
    "<img src=\"https://github.com/realethantran/ethanBlog/assets/109186517/97a000d6-dbfb-4651-bba1-fd1921d3c2d9\" alt=\"image\" width=\"300\"/>\n",
    "</html>\n",
    "\n",
    "### Featured Projects from other classes\n",
    "\n",
    "### AP Computer Science A Project\n",
    "\n",
    "<html>\n",
    "<img src=\"https://github.com/realethantran/ethanBlog/assets/109186517/1cbd981e-cd1d-4a02-a085-548c6ca7081b\" alt=\"image\" width=\"300\"/>\n",
    "</html>\n",
    "\n",
    "### Drawing/Painting 1 Art\n",
    "\n",
    "<html>\n",
    "<img src=\"https://github.com/realethantran/ethanBlog/assets/109186517/ab9a8edc-b1f8-448e-ac67-fb0d8a15775f\" alt=\"image\" width=\"300\"/>\n",
    "</html>\n",
    "\n",
    "#### Jason Z. Painting Critique\n",
    "\n",
    "<html>\n",
    "<img src=\"https://github.com/realethantran/ethanBlog/assets/109186517/3e9dc654-4cb4-4498-9eea-2e39f80828c9\" alt=\"image\" width=\"300\"/>\n",
    "</html>\n",
    "\n",
    "This painting by Jason Z. depicts what appears to be a happy family at the dinner table. There is a woman and an elderly man who is holding a baby. The realistic painting captures a beautiful moment of a family enjoying their time spent together. There are glasses and food, with visible steam, indicating that the food was just finished cooking. The smiles of the woman and elderly man encapsulate the joy of the family. The bright lighting focuses on the family, while the background is darker. This particular use of lighting puts a spotlight on the family as the main focus of the painting. The scene does not include anything extraordinary; it is simply a joyful moment shared amongst family, showing how delight and happiness can be found anytime in life, no matter how routine an activity may be. This painting helped to remind me of that principle: to enjoy life every day and the moments spent with family. The laughter and smiles of the woman and elderly man depicted in the painting put a smile on my own face."
   ]
  }
 ],
 "metadata": {
  "language_info": {
   "name": "python"
  }
 },
 "nbformat": 4,
 "nbformat_minor": 2
}
