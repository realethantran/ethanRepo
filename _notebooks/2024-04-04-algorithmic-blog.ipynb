{
 "cells": [
  {
   "cell_type": "markdown",
   "metadata": {},
   "source": [
    "---\n",
    "title: Algorithmic Code Prep \n",
    "author: Ethan Tran\n",
    "toc: true \n",
    "comments: true \n",
    "layout: post \n",
    "type: hacks\n",
    "courses: { csse: {week: 1}, csp: {week: 1, categories: [4.A]}, csa: {week: 0}, labnotebook: {week: 3} } \n",
    "---"
   ]
  },
  {
   "cell_type": "markdown",
   "metadata": {},
   "source": [
    "## Learn All Sorts\n",
    "\n",
    "### Bubble Sort\n",
    "\n",
    "Bubble Sort is iteratively goes through the list, compares nearby elements, and switches items if necessary to keep them in the correct order. It is inefficient for large datasets, as it has an O(n^2) time complexity meaning that larger datasets mean more operations used to sort."
   ]
  },
  {
   "cell_type": "code",
   "execution_count": 5,
   "metadata": {
    "vscode": {
     "languageId": "java"
    }
   },
   "outputs": [
    {
     "name": "stdout",
     "output_type": "stream",
     "text": [
      "Array (before sort):\n",
      "1 5 3 19 1 50 23 12 \n",
      "Array (after sort):\n",
      "1 1 3 5 12 19 23 50 \n"
     ]
    }
   ],
   "source": [
    "public class BubbleSort {\n",
    "    public static void bubbleSort(int[] num) {\n",
    "        int n = num.length;\n",
    "        for (int i = 0; i < n-1; i++) {\n",
    "            for (int j = 0; j < n-i-1; j++) {\n",
    "                if (num[j] > num[j+1]) {\n",
    "                    // swap num[j] and num[j+1]\n",
    "                    int temp = num[j];\n",
    "                    num[j] = num[j+1];\n",
    "                    num[j+1] = temp;\n",
    "                }\n",
    "            }\n",
    "        }\n",
    "    }\n",
    "\n",
    "    public static void main(String[] args) {\n",
    "        int[] num = {1, 5, 3, 19, 1, 50, 23, 12};\n",
    "        System.out.println(\"Array (before sort):\");\n",
    "        printAlgorithm(num);\n",
    "\n",
    "        bubbleSort(num);\n",
    "\n",
    "        System.out.println(\"Array (after sort):\");\n",
    "        printAlgorithm(num);\n",
    "    }\n",
    "\n",
    "    public static void printAlgorithm(int[] num) {\n",
    "        for (int i = 0; i < num.length; i++) {\n",
    "            System.out.print(num[i] + \" \");\n",
    "        }\n",
    "        System.out.println();\n",
    "    }\n",
    "}\n",
    "BubbleSort.main(null);"
   ]
  },
  {
   "cell_type": "markdown",
   "metadata": {},
   "source": [
    "### Selection Sort\n",
    "\n",
    "Selection sort splits the given list into two parts: sorted (at the beginning of the list) and the unsorted part falling after. The items start in the unsorted part while the sorted part is empty. The algorithm moves the smallest/maximum (depends on sort) element from the unsorted section to the end of the sorted part with each iteration.Its time complexity is O(n^2), meaning that it is inefficient for very large datasets but it can be helpful for tiny datasets."
   ]
  },
  {
   "cell_type": "code",
   "execution_count": 7,
   "metadata": {
    "vscode": {
     "languageId": "java"
    }
   },
   "outputs": [
    {
     "name": "stdout",
     "output_type": "stream",
     "text": [
      "Array (before sort):\n",
      "1 5 3 19 1 50 23 12 \n",
      "Array (after sort):\n",
      "1 1 3 5 12 19 23 50 \n"
     ]
    }
   ],
   "source": [
    "public class SelectionSort {\n",
    "    public static void SelectionSort(int[] num) {\n",
    "        int n = num.length;\n",
    "        for (int i = 0; i < n-1; i++) {\n",
    "            int min_idx = i;\n",
    "            for (int j = i+1; j < n; j++) {\n",
    "                if (num[j] < num[min_idx]) {\n",
    "                    min_idx = j;\n",
    "                }\n",
    "            }\n",
    "            int temp = num[min_idx];\n",
    "            num[min_idx] = num[i];\n",
    "            num[i] = temp;\n",
    "        }\n",
    "    }\n",
    "\n",
    "    public static void main(String[] args) {\n",
    "        int[] num = {1, 5, 3, 19, 1, 50, 23, 12};\n",
    "        System.out.println(\"Array (before sort):\");\n",
    "        printAlgorithm(num);\n",
    "\n",
    "        SelectionSort(num);\n",
    "\n",
    "        System.out.println(\"Array (after sort):\");\n",
    "        printAlgorithm(num);\n",
    "    }\n",
    "\n",
    "    public static void printAlgorithm(int[] num) {\n",
    "        for (int i = 0; i < num.length; i++) {\n",
    "            System.out.print(num[i] + \" \");\n",
    "        }\n",
    "        System.out.println();\n",
    "    }\n",
    "}\n",
    "SelectionSort.main(null);"
   ]
  },
  {
   "cell_type": "markdown",
   "metadata": {},
   "source": [
    "### Insertion Sort\n",
    "\n",
    "Insertion sort builds the final sorted Array one element at a time, iterating through the input Array and moving each element into the correct position through comparing it with elements to its left. It has a time complexity of O(n^2), making it inefficient with large Arrays, but it is efficient for small data sets or nearly sorted Arrays as it is adaptive to partially sorted Arrays, and space-efficient due to its in-place sorting nature."
   ]
  },
  {
   "cell_type": "code",
   "execution_count": 10,
   "metadata": {
    "vscode": {
     "languageId": "java"
    }
   },
   "outputs": [
    {
     "name": "stdout",
     "output_type": "stream",
     "text": [
      "Array (before sort):\n",
      "1 5 3 19 1 50 23 12 \n",
      "Array (after sort):\n",
      "1 1 3 5 12 19 23 50 \n"
     ]
    }
   ],
   "source": [
    "public class InsertionSort {\n",
    "    public static void InsertionSort(int[] num) {\n",
    "        int n = num.length;\n",
    "        for (int i = 1; i < n; i++) {\n",
    "            int key = num[i];\n",
    "            int j = i - 1;\n",
    "            while (j >= 0 && num[j] > key) {\n",
    "                num[j + 1] = num[j];\n",
    "                j--;\n",
    "            }\n",
    "            num[j + 1] = key;\n",
    "        }\n",
    "    }\n",
    "    public static void main(String[] args) {\n",
    "        int[] num = {1, 5, 3, 19, 1, 50, 23, 12};\n",
    "        System.out.println(\"Array (before sort):\");\n",
    "        printAlgorithm(num);\n",
    "\n",
    "        InsertionSort(num);\n",
    "\n",
    "        System.out.println(\"Array (after sort):\");\n",
    "        printAlgorithm(num);\n",
    "    }\n",
    "\n",
    "    public static void printAlgorithm(int[] num) {\n",
    "        for (int i = 0; i < num.length; i++) {\n",
    "            System.out.print(num[i] + \" \");\n",
    "        }\n",
    "        System.out.println();\n",
    "    }\n",
    "}\n",
    "InsertionSort.main(null);"
   ]
  },
  {
   "cell_type": "markdown",
   "metadata": {},
   "source": [
    "### Merge Sort\n",
    "\n",
    "Merge sort divides the input numay into smaller halves until each sub-numay contains a single element, then merges the smaller numays into the sorted order. It has a time complexity of O(n log n), which means that it is efficient even for large numays. "
   ]
  },
  {
   "cell_type": "code",
   "execution_count": 12,
   "metadata": {
    "vscode": {
     "languageId": "java"
    }
   },
   "outputs": [
    {
     "name": "stdout",
     "output_type": "stream",
     "text": [
      "Array (before sort):\n",
      "1 5 3 19 1 50 23 12 \n",
      "Array (after sort):\n",
      "1 1 3 5 12 19 23 50 \n"
     ]
    }
   ],
   "source": [
    "public class MergeSort {\n",
    "    public static void MergeSort(int[] num) {\n",
    "        if (num.length > 1) {\n",
    "            int mid = num.length / 2;\n",
    "            int[] left = Arrays.copyOfRange(num, 0, mid);\n",
    "            int[] right = Arrays.copyOfRange(num, mid, num.length);\n",
    "\n",
    "            MergeSort(left);\n",
    "            MergeSort(right);\n",
    "\n",
    "            int i = 0, j = 0, k = 0;\n",
    "\n",
    "            while (i < left.length && j < right.length) {\n",
    "                if (left[i] < right[j]) {\n",
    "                    num[k++] = left[i++];\n",
    "                } else {\n",
    "                    num[k++] = right[j++];\n",
    "                }\n",
    "            }\n",
    "\n",
    "            while (i < left.length) {\n",
    "                num[k++] = left[i++];\n",
    "            }\n",
    "\n",
    "            while (j < right.length) {\n",
    "                num[k++] = right[j++];\n",
    "            }\n",
    "        }\n",
    "    }\n",
    "    public static void main(String[] args) {\n",
    "        int[] num = {1, 5, 3, 19, 1, 50, 23, 12};\n",
    "        System.out.println(\"Array (before sort):\");\n",
    "        printAlgorithm(num);\n",
    "\n",
    "        MergeSort(num);\n",
    "\n",
    "        System.out.println(\"Array (after sort):\");\n",
    "        printAlgorithm(num);\n",
    "    }\n",
    "\n",
    "    public static void printAlgorithm(int[] num) {\n",
    "        for (int i = 0; i < num.length; i++) {\n",
    "            System.out.print(num[i] + \" \");\n",
    "        }\n",
    "        System.out.println();\n",
    "    }\n",
    "}\n",
    "MergeSort.main(null);"
   ]
  },
  {
   "cell_type": "markdown",
   "metadata": {},
   "source": [
    "### Quick Sort\n",
    "\n",
    "Quick Sort splits the array based on a selected pivot element, in which elements smaller than the pivot are moved to its left, and larger elements to its right. This process continues until the entire array is sorted by sorting the sub-arrays before and after the pivot element. Quick Sort has an average time complexity of O(n log n), making it efficient for large arrays, but it could degrade to O(n^2) in a worst-case scenario. However, it is widely used due to its average-case performance and in-place sorting characteristic, making it memory-efficient."
   ]
  },
  {
   "cell_type": "code",
   "execution_count": 17,
   "metadata": {
    "vscode": {
     "languageId": "java"
    }
   },
   "outputs": [
    {
     "name": "stdout",
     "output_type": "stream",
     "text": [
      "Array (before sort):\n",
      "1 5 3 19 1 50 23 12 \n",
      "Array (after sort):\n",
      "1 1 3 5 12 19 23 50 \n"
     ]
    }
   ],
   "source": [
    "public class QuickSort {\n",
    "    public static void QuickSort(int[] num, int low, int high) {\n",
    "        if (low < high) {\n",
    "            int pi = partition(num, low, high);\n",
    "\n",
    "            QuickSort(num, low, pi - 1);\n",
    "            QuickSort(num, pi + 1, high);\n",
    "        }\n",
    "    }\n",
    "\n",
    "    public static int partition(int[] num, int low, int high) {\n",
    "        int pivot = num[high];\n",
    "        int i = (low - 1);\n",
    "        for (int j = low; j < high; j++) {\n",
    "            if (num[j] < pivot) {\n",
    "                i++;\n",
    "\n",
    "                int temp = num[i];\n",
    "                num[i] = num[j];\n",
    "                num[j] = temp;\n",
    "            }\n",
    "        }\n",
    "\n",
    "        int temp = num[i + 1];\n",
    "        num[i + 1] = num[high];\n",
    "        num[high] = temp;\n",
    "\n",
    "        return i + 1;\n",
    "    }\n",
    "\n",
    "    public static void main(String[] args) {\n",
    "        int[] num = {1, 5, 3, 19, 1, 50, 23, 12};\n",
    "        System.out.println(\"Array (before sort):\");\n",
    "        printAlgorithm(num);\n",
    "\n",
    "        QuickSort(num, 0, num.length - 1);\n",
    "\n",
    "        System.out.println(\"Array (after sort):\");\n",
    "        printAlgorithm(num);\n",
    "    }\n",
    "\n",
    "    public static void printAlgorithm(int[] num) {\n",
    "        for (int i = 0; i < num.length; i++) {\n",
    "            System.out.print(num[i] + \" \");\n",
    "        }\n",
    "        System.out.println();\n",
    "    }\n",
    "}\n",
    "QuickSort.main(null);"
   ]
  },
  {
   "cell_type": "markdown",
   "metadata": {},
   "source": [
    "### LinkedList Collection"
   ]
  },
  {
   "cell_type": "code",
   "execution_count": 1,
   "metadata": {
    "vscode": {
     "languageId": "java"
    }
   },
   "outputs": [
    {
     "name": "stdout",
     "output_type": "stream",
     "text": [
      "Original List:\n",
      "[{\"name\": \"Alara\", \"number\": 1}, {\"name\": \"Abigail\", \"number\": 2}, {\"name\": \"Aditi\", \"number\": 3}, {\"name\": \"Yuri\", \"number\": 4}, {\"name\": \"Aditya\", \"number\": 5}, {\"name\": \"Jishnu\", \"number\": 6}, {\"name\": \"Ethan T\", \"number\": 7}, {\"name\": \"Alex\", \"number\": 8}, {\"name\": \"Tanvi\", \"number\": 9}, {\"name\": \"James\", \"number\": 10}, {\"name\": \"Anthony\", \"number\": 11}, {\"name\": \"Emaad\", \"number\": 12}, {\"name\": \"Tay\", \"number\": 13}, {\"name\": \"Krishiv\", \"number\": 13}, {\"name\": \"David\", \"number\": 14}]\n",
      "\n",
      "Sorted List (Merge Sort):\n",
      "[{\"name\": \"Alara\", \"number\": 1}, {\"name\": \"Abigail\", \"number\": 2}, {\"name\": \"Aditi\", \"number\": 3}, {\"name\": \"Yuri\", \"number\": 4}, {\"name\": \"Aditya\", \"number\": 5}, {\"name\": \"Jishnu\", \"number\": 6}, {\"name\": \"Ethan T\", \"number\": 7}, {\"name\": \"Alex\", \"number\": 8}, {\"name\": \"Tanvi\", \"number\": 9}, {\"name\": \"James\", \"number\": 10}, {\"name\": \"Anthony\", \"number\": 11}, {\"name\": \"Emaad\", \"number\": 12}, {\"name\": \"Tay\", \"number\": 13}, {\"name\": \"Krishiv\", \"number\": 13}, {\"name\": \"David\", \"number\": 14}]\n"
     ]
    }
   ],
   "source": [
    "class Node<T extends Comparable<T>> {\n",
    "    T data;\n",
    "    Node<T> next;\n",
    "\n",
    "    public Node(T data) {\n",
    "        this.data = data;\n",
    "        this.next = null;\n",
    "    }\n",
    "}\n",
    "\n",
    "class LinkedList<T extends Comparable<T>> {\n",
    "    private Node<T> head;\n",
    "\n",
    "    public LinkedList() {\n",
    "        this.head = null;\n",
    "    }\n",
    "\n",
    "    public void add(T data) {\n",
    "        Node<T> newNode = new Node<>(data);\n",
    "        if (head == null) {\n",
    "            head = newNode;\n",
    "        } else {\n",
    "            Node<T> current = head;\n",
    "            while (current.next != null) {\n",
    "                current = current.next;\n",
    "            }\n",
    "            current.next = newNode;\n",
    "        }\n",
    "    }\n",
    "\n",
    "    public void mergeSort() {\n",
    "        head = mergeSort(head);\n",
    "    }\n",
    "\n",
    "    private Node<T> mergeSort(Node<T> h) {\n",
    "        if (h == null || h.next == null) {\n",
    "            return h;\n",
    "        }\n",
    "\n",
    "        Node<T> middle = getMiddle(h);\n",
    "        Node<T> nextOfMiddle = middle.next;\n",
    "        middle.next = null;\n",
    "\n",
    "        Node<T> left = mergeSort(h);\n",
    "        Node<T> right = mergeSort(nextOfMiddle);\n",
    "\n",
    "        return merge(left, right);\n",
    "    }\n",
    "\n",
    "    private Node<T> merge(Node<T> left, Node<T> right) {\n",
    "        Node<T> result = null;\n",
    "\n",
    "        if (left == null)\n",
    "            return right;\n",
    "        if (right == null)\n",
    "            return left;\n",
    "\n",
    "        if (left.data.compareTo(right.data) <= 0) {\n",
    "            result = left;\n",
    "            result.next = merge(left.next, right);\n",
    "        } else {\n",
    "            result = right;\n",
    "            result.next = merge(left, right.next);\n",
    "        }\n",
    "\n",
    "        return result;\n",
    "    }\n",
    "\n",
    "    private Node<T> getMiddle(Node<T> h) {\n",
    "        if (h == null)\n",
    "            return h;\n",
    "\n",
    "        Node<T> fastPtr = h.next;\n",
    "        Node<T> slowPtr = h;\n",
    "\n",
    "        while (fastPtr != null) {\n",
    "            fastPtr = fastPtr.next;\n",
    "            if (fastPtr != null) {\n",
    "                slowPtr = slowPtr.next;\n",
    "                fastPtr = fastPtr.next;\n",
    "            }\n",
    "        }\n",
    "        return slowPtr;\n",
    "    }\n",
    "\n",
    "    @Override\n",
    "    public String toString() {\n",
    "        StringBuilder sb = new StringBuilder(\"[\");\n",
    "        Node<T> current = head;\n",
    "        while (current != null) {\n",
    "            sb.append(current.data);\n",
    "            if (current.next != null)\n",
    "                sb.append(\", \");\n",
    "            current = current.next;\n",
    "        }\n",
    "        sb.append(\"]\");\n",
    "        return sb.toString();\n",
    "    }\n",
    "}\n",
    "\n",
    "public class Main {\n",
    "    public static void main(String[] args) {\n",
    "        LinkedList<FlowerGroupMember> members = new LinkedList<>();\n",
    "        members.add(new FlowerGroupMember(\"Alara\", 1));\n",
    "        members.add(new FlowerGroupMember(\"Abigail\", 2));\n",
    "        members.add(new FlowerGroupMember(\"Aditi\", 3));\n",
    "        members.add(new FlowerGroupMember(\"Yuri\", 4));\n",
    "        members.add(new FlowerGroupMember(\"Aditya\", 5));\n",
    "        members.add(new FlowerGroupMember(\"Jishnu\", 6));\n",
    "        members.add(new FlowerGroupMember(\"Ethan T\", 7));\n",
    "        members.add(new FlowerGroupMember(\"Alex\", 8));\n",
    "        members.add(new FlowerGroupMember(\"Tanvi\", 9));\n",
    "        members.add(new FlowerGroupMember(\"James\", 10));\n",
    "        members.add(new FlowerGroupMember(\"Anthony\", 11));\n",
    "        members.add(new FlowerGroupMember(\"Emaad\", 12));\n",
    "        members.add(new FlowerGroupMember(\"Tay\", 13));\n",
    "        members.add(new FlowerGroupMember(\"Krishiv\", 13));\n",
    "        members.add(new FlowerGroupMember(\"David\", 14));\n",
    "\n",
    "        System.out.println(\"Original List:\");\n",
    "        System.out.println(members);\n",
    "\n",
    "        //  merge sort\n",
    "        members.mergeSort();\n",
    "        System.out.println(\"\\nSorted List (Merge Sort):\");\n",
    "        System.out.println(members);\n",
    "    }\n",
    "}\n",
    "\n",
    "class FlowerGroupMember implements Comparable<FlowerGroupMember> {\n",
    "    private String name;\n",
    "    private int number;\n",
    "\n",
    "    public FlowerGroupMember(String name, int number) {\n",
    "        this.name = name;\n",
    "        this.number = number;\n",
    "    }\n",
    "\n",
    "    @Override\n",
    "    public int compareTo(FlowerGroupMember other) {\n",
    "        // compare members based on their numbers\n",
    "        return Integer.compare(this.number, other.number);\n",
    "    }\n",
    "\n",
    "    @Override\n",
    "    public String toString() {\n",
    "        return \"{\\\"name\\\": \\\"\" + name + \"\\\", \\\"number\\\": \" + number + \"}\";\n",
    "    }\n",
    "}\n",
    "Main.main(null);"
   ]
  },
  {
   "cell_type": "markdown",
   "metadata": {},
   "source": [
    "## Algorithmic Performance Experience\n",
    "\n",
    "To begin, I would like to say that the entire experience from forming teams, planning our performance, practicing with my team, and the actual performance itself were absolutely awesome! Our team started by doing some overall research and getting more familiar with Merge Sort, as we had to figure out a way to create a performance centered around the algorithm. Eventually, our team decided to create a flower performance, with some aspects from Dune, to show off our creativity a bit better for the judges. As everyone in our team knew the algorithm pretty well, we spent most practices working on our dance and ways to show how the sort works (split, sort, merge). Overall, this experience was really fun as it was really cool to plan and practice at lunch, and also include students from the AP Computer Science Principles class into our group.\n",
    "\n",
    "> Images from Algorithmic\n",
    "\n",
    "![image](https://github.com/realethantran/fastpages_EthanT/assets/109186517/be53cc95-98a9-4a68-a167-05c685315030)\n",
    "\n",
    "![image](https://github.com/realethantran/fastpages_EthanT/assets/109186517/bbe10631-9bcb-4fe4-b971-c75b807a7a97)\n",
    "\n",
    "![image](https://github.com/realethantran/fastpages_EthanT/assets/109186517/58a7e66c-4cbd-4cd2-8245-084259424bc3)\n",
    "\n",
    "![image](https://github.com/realethantran/fastpages_EthanT/assets/109186517/83de0135-4b6f-43e4-8132-777988b8eb6f)"
   ]
  }
 ],
 "metadata": {
  "kernelspec": {
   "display_name": "Java",
   "language": "java",
   "name": "java"
  },
  "language_info": {
   "codemirror_mode": "java",
   "file_extension": ".jshell",
   "mimetype": "text/x-java-source",
   "name": "Java",
   "pygments_lexer": "java",
   "version": "17.0.8.1+1-Ubuntu-0ubuntu120.04"
  }
 },
 "nbformat": 4,
 "nbformat_minor": 2
}
