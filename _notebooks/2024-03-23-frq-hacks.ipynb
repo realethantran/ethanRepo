{
 "cells": [
  {
   "cell_type": "markdown",
   "metadata": {},
   "source": [
    "---\n",
    "title: FRQ Hacks\n",
    "toc: true \n",
    "comments: true \n",
    "layout: post \n",
    "type: hacks \n",
    "courses: { csse: {week: 1}, csp: {week: 1, categories: [4.A]}, csa: {week: 0}, labnotebook: {week: 3} } \n",
    "---"
   ]
  },
  {
   "cell_type": "markdown",
   "metadata": {},
   "source": [
    "## FRQ 3\n",
    "\n",
    "a. Define an arrayList in Java. Explain its significance and usefulness in programming.\n",
    "\n",
    "An ArrayList is a data structure that resembles a dynamic array and whose size can change dynamically when elements are added or removed. It is more flexible than arrays and is a component of the Java Collections Framework.\n",
    "\n",
    "b. You need to implement a method `calculateAverageGrade` that takes an arrayList `grades` of integers representing student grades and returns the average of all the elements in the arrayList. Write the method signature and the method implementation. Include comments to explain your code."
   ]
  },
  {
   "cell_type": "code",
   "execution_count": 4,
   "metadata": {},
   "outputs": [
    {
     "name": "stdout",
     "output_type": "stream",
     "text": [
      "Average grade: 20.0\n"
     ]
    }
   ],
   "source": [
    "import java.util.ArrayList;\n",
    "\n",
    "public class GradeCalc {\n",
    "    \n",
    "    public static double calculateAverageGrade(ArrayList<Integer> grades) {\n",
    "        int sum = 0;\n",
    "        \n",
    "        for (int grade : grades) { // iterate through the ArrayList to calculate the sum\n",
    "            sum += grade;\n",
    "        }\n",
    "        \n",
    "        double average = (double) sum / grades.size(); // divide sum by number of grades to get average\n",
    "        \n",
    "        return average;\n",
    "    }\n",
    "\n",
    "    public static void main(String[] args) {\n",
    "        ArrayList<Integer> studentGrades = new ArrayList<>();\n",
    "        studentGrades.add(10); // test data\n",
    "        studentGrades.add(20);\n",
    "        studentGrades.add(30);\n",
    "        \n",
    "        System.out.println(\"Average grade: \" + calculateAverageGrade(studentGrades));\n",
    "    }\n",
    "}\n",
    "GradeCalc.main(null);"
   ]
  },
  {
   "cell_type": "markdown",
   "metadata": {},
   "source": [
    "## Question 5\n",
    "\n",
    "a. Explain the roles and usage of the if statement, while loop, and else statement in Java programming. Provide examples illustrating each.\n",
    "\n",
    "\n",
    "b. \n",
    "\n",
    "You need to implement a method `printGradeStatus` that takes an integer `score` as input and prints \"Pass\" if the score is greater than or equal to 60, and \"Fail\" otherwise. Write the method signature and the method implementation. Include comments to explain your code."
   ]
  },
  {
   "cell_type": "code",
   "execution_count": null,
   "metadata": {},
   "outputs": [],
   "source": []
  }
 ],
 "metadata": {
  "kernelspec": {
   "display_name": "Java",
   "language": "java",
   "name": "java"
  },
  "language_info": {
   "codemirror_mode": "java",
   "file_extension": ".jshell",
   "mimetype": "text/x-java-source",
   "name": "java",
   "pygments_lexer": "java",
   "version": "17.0.8.1+1-Ubuntu-0ubuntu120.04"
  }
 },
 "nbformat": 4,
 "nbformat_minor": 2
}
