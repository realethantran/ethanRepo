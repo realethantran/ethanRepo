{
 "cells": [
  {
   "cell_type": "markdown",
   "metadata": {},
   "source": [
    "---\n",
    "toc: true\n",
    "layout: post\n",
    "title: 2015 FRQ 4\n",
    "description: My answers for FRQ 4\n",
    "type: hacks\n",
    "courses: { csa: {week: 24} }\n",
    "authors: Ethan Tran\n",
    "comments: true\n",
    "---"
   ]
  },
  {
   "cell_type": "markdown",
   "metadata": {},
   "source": [
    "This question involves the design of an interface, writing a class that implements the interface, and writing a method that uses the interface.\n",
    "\n",
    "(a) A number group represents a group of integers defined in some way. It could be empty, or it could contain one or more integers.\n",
    "\n",
    "Write an interface named NumberGroup that represents a group of integers. The interface should have a single contains method that determines if a given integer is in the group. For example, if group1 is of type NumberGroup, and it contains only the two numbers -5 and 3, then group1.contains(-5) would return true, and group1.contains(2) would return false.\n",
    "Write the complete NumberGroup interface. It must have exactly one method."
   ]
  },
  {
   "cell_type": "code",
   "execution_count": 6,
   "metadata": {},
   "outputs": [
    {
     "name": "stdout",
     "output_type": "stream",
     "text": [
      "Testing number group:\n",
      "Group contains 5: true\n",
      "Group contains -3: true\n",
      "Group contains 100: false\n",
      "Group contains 23: false\n"
     ]
    }
   ],
   "source": [
    "public interface NumberGroup {\n",
    "    boolean contains(int number);\n",
    "}\n",
    "\n",
    "class Test {\n",
    "    public static void main(String[] args) {\n",
    "        testNumberGroup();\n",
    "    }\n",
    "}\n",
    "\n",
    "class NormalNumberGroup implements NumberGroup {\n",
    "    private int[] numbers = {5, -3}; // array to hold the numbers in the group\n",
    "\n",
    "    @Override\n",
    "    public boolean contains(int number) {\n",
    "        for (int n : numbers) { // iterate through the numbers in the group\n",
    "            if (n == number) { // check if the current number matches the given number\n",
    "                return true; // return true if the number is found in the group\n",
    "            }\n",
    "        }\n",
    "        return false; // return false if the number is not found in the group\n",
    "    }\n",
    "}\n",
    "\n",
    "public static void testNumberGroup() {\n",
    "    NumberGroup group = new NormalNumberGroup();\n",
    "    System.out.println(\"Testing number group:\");\n",
    "    System.out.println(\"Group contains 5: \" + group.contains(5)); // contains 5, true\n",
    "    System.out.println(\"Group contains -3: \" + group.contains(-3)); // contains -3, true\n",
    "    System.out.println(\"Group contains 100: \" + group.contains(100)); // does not contain 100, false\n",
    "    System.out.println(\"Group contains 23: \" + group.contains(23)); // does not contain 23, false\n",
    "}\n",
    "Test.main(null);"
   ]
  },
  {
   "cell_type": "markdown",
   "metadata": {},
   "source": [
    "(b) A range represents a number group that contains all (and only) the integers between a minimum value and a maximum value, inclusive.\n",
    "Write the Range class, which is a NumberGroup. The Range class represents the group of int values that range from a given minimum value up through a given maximum value, inclusive. For example,the declaration\n",
    "\n",
    "NumberGroup range1 = new Range(-3, 2);\n",
    "\n",
    "represents the group of integer values -3, -2, -1, 0, 1, 2.\n",
    "\n",
    "Write the complete Range class. Include all necessary instance variables and methods as well as a constructor that takes two int parameters. The first parameter represents the minimum value, and the second parameter represents the maximum value of the range. You may assume that the minimum is less than or equal to the maximum.\n"
   ]
  },
  {
   "cell_type": "code",
   "execution_count": 10,
   "metadata": {},
   "outputs": [
    {
     "name": "stdout",
     "output_type": "stream",
     "text": [
      "Range contains 5: true\n",
      "Range contains 2: true\n",
      "Range contains 22: false\n"
     ]
    }
   ],
   "source": [
    "public class Range implements NumberGroup {\n",
    "    private int min; // minimum value of the range\n",
    "    private int max; // maximum value of the range\n",
    "\n",
    "    public Range(int min, int max) {\n",
    "        this.min = min;\n",
    "        this.max = max;\n",
    "    }\n",
    "\n",
    "    @Override\n",
    "    public boolean contains(int number) {\n",
    "        return number >= min && number <= max; // check if the number is within the range\n",
    "    }\n",
    "}\n",
    "\n",
    "class Test {\n",
    "    public static void main(String[] args) {\n",
    "        testNumberGroup(); // call the test method\n",
    "    }\n",
    "\n",
    "    public static void testNumberGroup() {\n",
    "        NumberGroup range = new Range(1, 23); // create a range from 1 to 23\n",
    "        System.out.println(\"Range contains 5: \" + range.contains(5)); // true\n",
    "        System.out.println(\"Range contains 2: \" + range.contains(17)); // true\n",
    "        System.out.println(\"Range contains 22: \" + range.contains(24)); // false\n",
    "    }\n",
    "}\n",
    "\n",
    "interface NumberGroup {\n",
    "    boolean contains(int number);\n",
    "}\n",
    "Test.main(null);"
   ]
  },
  {
   "cell_type": "markdown",
   "metadata": {},
   "source": [
    "(c) The MultipleGroups class (not shown) represents a collection of NumberGroup objects and isa NumberGroup. The MultipleGroups class stores the number groups in the instance variable groupList (shown below), which is initialized in the constructor.\n",
    "\n",
    "private List<NumberGroup> groupList;\n",
    "\n",
    "Write the MultipleGroups method contains. The method takes an integer and returns true if and only if the integer is contained in one or more of the number groups in groupList.\n",
    "\n",
    "For example, suppose multiple1 has been declared as an instance of MultipleGroups and consists of the three ranges created by the calls new Range(5, 8), new Range(10, 12), and new Range(1, 6). The following table shows the results of several calls to contains.\n",
    "\n",
    "![Image](https://github.com/nighthawkcoders/teacher_portfolio/assets/109186517/e1ece99b-12cf-4990-b2d1-48c42cc6fc10)\n",
    "\n",
    "![Image](https://github.com/nighthawkcoders/teacher_portfolio/assets/109186517/9f8f2d8b-c4b4-440c-935e-56b5c8bce226)\n"
   ]
  },
  {
   "cell_type": "code",
   "execution_count": 14,
   "metadata": {},
   "outputs": [
    {
     "name": "stdout",
     "output_type": "stream",
     "text": [
      "Contains 2: true\n",
      "Contains 9: false\n",
      "Contains 6: true\n"
     ]
    }
   ],
   "source": [
    "public class MultipleGroups implements NumberGroup {\n",
    "    private List<NumberGroup> groupList;\n",
    "\n",
    "    public MultipleGroups(List<NumberGroup> groupList) {\n",
    "        this.groupList = groupList;\n",
    "    }\n",
    "\n",
    "    @Override\n",
    "    public boolean contains(int number) {\n",
    "        for (NumberGroup group : groupList) {\n",
    "            if (group.contains(number)) {\n",
    "                return true; // return true if the number is found in any group\n",
    "            }\n",
    "        }\n",
    "        return false; // return false if the number is not found in any group\n",
    "    }\n",
    "}\n",
    "public class Test {\n",
    "    public static void main(String[] args) {\n",
    "        // ranges from College Board\n",
    "        NumberGroup range1 = new Range(5, 8);\n",
    "        NumberGroup range2 = new Range(10, 12);\n",
    "        NumberGroup range3 = new Range(1, 6);\n",
    "        \n",
    "        // list of NumberGroup objects\n",
    "        List<NumberGroup> groupList = new ArrayList<>();\n",
    "        groupList.add(range1);\n",
    "        groupList.add(range2);\n",
    "        groupList.add(range3);\n",
    "        \n",
    "        MultipleGroups multiple1 = new MultipleGroups(groupList);\n",
    "        \n",
    "        System.out.println(\"Contains 2: \" + multiple1.contains(2)); // true\n",
    "        System.out.println(\"Contains 9: \" + multiple1.contains(9)); // false, 9 is not included :(\n",
    "        System.out.println(\"Contains 6: \" + multiple1.contains(6)); // true\n",
    "    }\n",
    "}\n",
    "Test.main(null);"
   ]
  }
 ],
 "metadata": {
  "kernelspec": {
   "display_name": "Java",
   "language": "java",
   "name": "java"
  },
  "language_info": {
   "codemirror_mode": "java",
   "file_extension": ".jshell",
   "mimetype": "text/x-java-source",
   "name": "java",
   "pygments_lexer": "java",
   "version": "17.0.8.1+1-Ubuntu-0ubuntu120.04"
  }
 },
 "nbformat": 4,
 "nbformat_minor": 2
}
