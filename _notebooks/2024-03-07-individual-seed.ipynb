{
 "cells": [
  {
   "cell_type": "markdown",
   "metadata": {},
   "source": [
    "---\n",
    "toc: true\n",
    "layout: post\n",
    "title: Individual Seed Blog\n",
    "description: My work for Tri2\n",
    "type: hacks\n",
    "courses: { csa: {week: 25} }\n",
    "authors: Ethan Tran\n",
    "comments: true\n",
    "---"
   ]
  },
  {
   "cell_type": "markdown",
   "metadata": {},
   "source": [
    "# Debugging \n",
    "\n",
    "## Breakpoint at beginning of /leaderboard code\n",
    "\n",
    "<img src=\"https://github.com/Codemaxxers/Issues/assets/109186517/b4c1973e-e1e5-42af-9c2b-b64644dff299\" width=\"650\">\n",
    "\n",
    "## User Data after Step-In (Backend)\n",
    "\n",
    "- Data added after game is played (not signed in, thus, null username)\n",
    "\n",
    "<img src=\"https://github.com/realethantran/ethanBlog/assets/109186517/acb13256-6f7d-4a70-aa19-73ab6d77a93b\" width=\"650\">\n",
    "\n",
    "## Breakpoint at Fetch (Frontend)\n",
    "\n",
    "<img src=\"https://github.com/realethantran/ethanBlog/assets/109186517/171df7ac-564e-488a-8403-3da656abeaa4\" width=\"650\">\n",
    "\n",
    "# Individual Work \n",
    "\n",
    "- [x] 93% or better in last trimester of AP CSA\n",
    "- [x] Individual Progress: \n",
    "   - [x] AP preparation progress\n",
    "\n",
    "With the CSA AP Exam, I am taking a similar approach to last year as it helped me to get a 5 on the AP CSP exam. This year, I am continuing to complete the work given by Mr. Mortensen and checking for which units I need most help on, then taking notes. Finally, I review the units using the AP textbook that I have at home.\n",
    "\n",
    "- [x] [MCQ Review + Notes](https://ethan.nighthawkcodingsociety.com/2023/12/21/MCQ-Reflections_IPYNB_2_.html)\n",
    "     - [x] [FRQ Connections + Takeaways](https://github.com/realethantran/ethanRepo/issues/2)\n",
    "   - [x] Key commits\n",
    "   - [x] GitHub Analytics\n",
    "   \n",
    "## AP Work\n",
    "\n",
    "| Key    | Value                                                                                |\n",
    "|--------|--------------------------------------------------------------------------------------|\n",
    "| Name   | Ethan Tran                                                                           |\n",
    "| Period | 1                                                                                    |\n",
    "| FRQ 1  | [FRQ 1 Solutions](https://realethantran.github.io/ethanRepo/2024/02/25/frq1_IPYNB_2_.html) |\n",
    "| FRQ 2  | [FRQ 2 Solutions](https://realethantran.github.io/ethanRepo/2024/02/25/frq2_IPYNB_2_.html) |\n",
    "| FRQ 3  | [FRQ 3 Solutions](https://realethantran.github.io/ethanRepo/2024/02/25/frq3_IPYNB_2_.html) |\n",
    "| FRQ 4  | [FRQ 4 Solutions](https://realethantran.github.io/ethanRepo/2024/02/26/frq4_IPYNB_2_.html) |\n",
    "| Issue  | [Issue (FRQ Associations/Connections to Project)](https://github.com/realethantran/ethanRepo/issues/2) |\n",
    "\n",
    "\n",
    "> Frontend Insights \n",
    "![image](https://github.com/realethantran/ethanBlog/assets/109186517/8fed2eae-8cd7-406e-b3e2-efe47e2fb6a5)\n",
    "\n",
    "> Backend Insights \n",
    "![image](https://github.com/realethantran/ethanBlog/assets/109186517/adec68b8-f3e5-4528-a398-1238ad587339)\n",
    "\n",
    "> GitHub Commits\n",
    "![image](https://github.com/realethantran/ethanBlog/assets/109186517/f830cff4-b361-46d3-8962-343edbd1df87)\n",
    "\n",
    "- [x] [GitHub Pages Blog](https://realethantran.github.io/ethanRepo/)\n",
    "  - [x] [Scrum Board](https://github.com/orgs/The-GPT-Warriors/projects/1/views/1?layout=board) with delegated tasks"
   ]
  }
 ],
 "metadata": {
  "language_info": {
   "name": "python"
  }
 },
 "nbformat": 4,
 "nbformat_minor": 2
}
