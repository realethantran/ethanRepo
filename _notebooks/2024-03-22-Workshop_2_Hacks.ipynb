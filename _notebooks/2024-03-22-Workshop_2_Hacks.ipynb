{
 "cells": [
  {
   "cell_type": "markdown",
   "metadata": {},
   "source": [
    "---\n",
    "title: Workshop 2 Hacks\n",
    "description: Classes Workshop Hacks\n",
    "toc: true\n",
    "layout: post\n",
    "type: hacks\n",
    "comments: true\n",
    "---"
   ]
  },
  {
   "cell_type": "markdown",
   "metadata": {},
   "source": [
    "# Free Response Questions"
   ]
  },
  {
   "cell_type": "markdown",
   "metadata": {},
   "source": [
    "## Question 2 - Writing Classes:\n",
    "\n",
    "(a) Describe the different features needed to create a class and what their purpose is.\n",
    "\n",
    "- Name of Class: The identifier used to define a class and indicate the kinds of objects that can be instantiated from it is its name\n",
    "\n",
    "- Instance Variables: Used to store data in an object\n",
    "\n",
    "- Encapsulation: Preserves data integrity and avoid undesired outside interference, groups data (instance variables) and methods into a single unit\n",
    "\n",
    "- Methods: Define the behavior of objects by encapsulating operations that can be performed on the object's data, facilitating interaction and functionality\n",
    "\n",
    "- Constructor:Initialize object state by assigning initial values to instance variables or performing setup tasks, automatically called upon object creation and sharing the same name as the class\n",
    "\n",
    "- Abstraction: Simplifies complex systems by focusing on essential features while hiding unnecessary implementation details, achieved through abstract classes and interfaces in Java\n",
    "\n",
    "- Polymorphism: Allows objects to take on different forms or behave differently based on their types, facilitated by method overriding and overloading in Java\n",
    "\n",
    "- Inheritance: Establishes hierarchical relationships between classes, allowing subclasses to inherit properties and behaviors from a superclass, promoting code reuse and extending functionality\n",
    "\n",
    "(b) Code:\n",
    "\n",
    "Create a Java class BankAccount to represent a simple bank account. This class should have the following attributes:\n",
    "- accountHolder (String): The name of the account holder.\n",
    "balance (double): The current balance in the account.\n",
    "Implement the following mutator (setter) methods for the BankAccount class:\n",
    "- setAccountHolder(String name): Sets the name of the account holder.\n",
    "- deposit(double amount): Deposits a given amount into the account.\n",
    "- withdraw(double amount): Withdraws a given amount from the account, but only if the withdrawal amount is less than or equal to the current balance.\n",
    "Ensure that the balance is never negative."
   ]
  },
  {
   "cell_type": "code",
   "execution_count": 3,
   "metadata": {},
   "outputs": [
    {
     "name": "stdout",
     "output_type": "stream",
     "text": [
      "Account of SGA Current balance: 5000.0\n",
      "1500.0 deposited\n",
      "Balance after deposit: 6500.0\n",
      "2500.0 withdrawn successfully.\n",
      "Balance after withdrawal: 4000.0\n"
     ]
    }
   ],
   "source": [
    "public class BankAccount {\n",
    "    private String accountHolder;\n",
    "    private double balance;\n",
    "\n",
    "    public BankAccount(String accountHolder, double balance) { \n",
    "        this.accountHolder = accountHolder; \n",
    "        this.balance = balance; \n",
    "    }\n",
    "\n",
    "    public String getAccountHolder() {\n",
    "        return accountHolder;\n",
    "    }\n",
    "\n",
    "    public void setAccountHolder(String accountHolder) { \n",
    "        this.accountHolder = accountHolder; // update accountHolder\n",
    "    }\n",
    "\n",
    "    public void deposit(double amount) { \n",
    "        if (amount > 0) { // check if amount is positive\n",
    "            balance += amount; // add amount to balance\n",
    "            System.out.println(amount + \" deposited\"); // print deposit message\n",
    "        } else {\n",
    "            System.out.println(\"Invalid amount deposited\"); //error message\n",
    "        }\n",
    "    }\n",
    "\n",
    "    public void withdraw(double amount) {\n",
    "        if (amount > 0 && amount <= balance) { // check if withdrawal amount is positive and less than or equal to balance\n",
    "            balance -= amount; // subtract amount from balance\n",
    "            System.out.println(amount + \" withdrawn successfully.\"); \n",
    "        } else {\n",
    "            System.out.println(\"Insufficient balance or invalid withdrawal amount.\");\n",
    "        }\n",
    "    }\n",
    "\n",
    "\n",
    "    // main method for testing\n",
    "    public static void main(String[] args) {\n",
    "        BankAccount account = new BankAccount(\"SGA\", 5000.0);\n",
    "        System.out.println(\"Account of \" + account.getAccountHolder() + \" Current balance: \" + account.balance );\n",
    "        account.deposit(1500.0);\n",
    "        System.out.println(\"Balance after deposit: \" + account.balance);\n",
    "        account.withdraw(2500.0);\n",
    "        System.out.println(\"Balance after withdrawal: \" + account.balance);\n",
    "    }\n",
    "}\n",
    "BankAccount.main(null);"
   ]
  },
  {
   "cell_type": "markdown",
   "metadata": {},
   "source": [
    "## Question 3 - Instantiation of a Class\n",
    "\n",
    "(a) Explain how a constructor works, including when it runs and what generally is done within a constructor.\n",
    "\n",
    "When an object of that class is created using the new keyword, Java automatically invokes a special method called a constructor within that class. It is mainly used to initialize the object's state via setting initial values to it's variables, executing at the point of object creation. Constructors frequently establish default values or initialize variables based on parameters passed to them during object creation. They can also be overloaded, providing for numerous ways to create an object.\n",
    "\n",
    "(b) Create an example of an overloaded constructor within a class. You must use at least three variables. Include the correct initialization of variables and correct headers for the constructor. Then, run the constructor at least twice with different variables and demonstrate that these two objects called different constructors. "
   ]
  },
  {
   "cell_type": "code",
   "execution_count": 9,
   "metadata": {},
   "outputs": [
    {
     "name": "stdout",
     "output_type": "stream",
     "text": [
      "Car 1:\n",
      "Manufacturer: Lexus\n",
      "Model: ISF\n",
      "Year: 2011\n",
      "Engine: V8\n",
      "\n",
      "Car 2:\n",
      "Manufacturer: Kia\n",
      "Model: Rio\n",
      "Year: 2019\n",
      "Engine: Inline-4\n",
      "\n"
     ]
    }
   ],
   "source": [
    "public class Car {\n",
    "    private String brand;\n",
    "    private String model;\n",
    "    private int year;\n",
    "    private String engine;\n",
    "\n",
    "    public Car() {\n",
    "        // setting default values\n",
    "        this.brand = \"Unknown\";\n",
    "        this.model = \"Unknown\";\n",
    "        this.year = 0;\n",
    "        this.engine = \"Unknown\";\n",
    "    }\n",
    "\n",
    "    public Car(String brand, String model, int year, String engine) {\n",
    "        // initializing with provided values\n",
    "        this.brand = brand;\n",
    "        this.model = model;\n",
    "        this.year = year;\n",
    "        this.engine = engine;\n",
    "    }\n",
    "\n",
    "    // method to display car details\n",
    "    public void displayDetails() {\n",
    "        System.out.println(\"Manufacturer: \" + brand);\n",
    "        System.out.println(\"Model: \" + model);\n",
    "        System.out.println(\"Year: \" + year);\n",
    "        System.out.println(\"Engine: \" + engine);\n",
    "        System.out.println();\n",
    "    }\n",
    "\n",
    "    public static void main(String[] args) {\n",
    "        // car test data\n",
    "        Car car1 = new Car(\"Lexus\", \"ISF\", 2011, \"V8\");\n",
    "        Car car2 = new Car(\"Kia\", \"Rio\", 2019, \"Inline-4\");\n",
    "\n",
    "        // display car 1 and car 2 details\n",
    "        System.out.println(\"Car 1:\");\n",
    "        car1.displayDetails();\n",
    "\n",
    "        System.out.println(\"Car 2:\");\n",
    "        car2.displayDetails();\n",
    "    }\n",
    "}\n",
    "Car.main(null);"
   ]
  }
 ],
 "metadata": {
  "kernelspec": {
   "display_name": "Java",
   "language": "java",
   "name": "java"
  },
  "language_info": {
   "codemirror_mode": "java",
   "file_extension": ".jshell",
   "mimetype": "text/x-java-source",
   "name": "java",
   "pygments_lexer": "java",
   "version": "17.0.8.1+1-Ubuntu-0ubuntu120.04"
  }
 },
 "nbformat": 4,
 "nbformat_minor": 2
}
