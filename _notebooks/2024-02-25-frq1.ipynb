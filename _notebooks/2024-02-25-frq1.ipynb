{
 "cells": [
  {
   "cell_type": "markdown",
   "metadata": {
    "vscode": {
     "languageId": "java"
    }
   },
   "source": [
    "---\n",
    "toc: true\n",
    "layout: post\n",
    "title: 2015 FRQ 1\n",
    "description: My answers for FRQ 1\n",
    "type: hacks\n",
    "courses: { csa: {week: 24} }\n",
    "authors: Ethan Tran\n",
    "comments: true\n",
    "---"
   ]
  },
  {
   "cell_type": "markdown",
   "metadata": {},
   "source": [
    "(a) Write a static method arraySum that calculates and returns the sum of the entries in a specified one-dimensional array. The following example shows an array arr1 and the value returned by a call to arraySum.\n",
    "\n",
    "![image](https://github.com/realethantran/ethanBlog/assets/109186517/fb9e036b-6972-4ee3-8aff-3f08634f1cef)\n",
    "\n",
    "\n",
    "Complete method arraySum below."
   ]
  },
  {
   "cell_type": "code",
   "execution_count": 18,
   "metadata": {
    "vscode": {
     "languageId": "java"
    }
   },
   "outputs": [
    {
     "name": "stdout",
     "output_type": "stream",
     "text": [
      "Array Sum: 55\n"
     ]
    }
   ],
   "source": [
    "public static int arraySum(int[] arr) {\n",
    "    int sum = 0;\n",
    "    \n",
    "    for (int i = 0; i < arr.length; i++) {  // iterate through each num in array\n",
    "        sum += arr[i];\n",
    "    }\n",
    "    return sum;\n",
    "}\n",
    "int[] testArray = {1, 2, 3, 4, 5, 6, 7, 8, 9, 10}; // array from 1-10 \n",
    "int sum = arraySum(testArray); // testing my code :D\n",
    "System.out.println(\"Array Sum: \" + sum);"
   ]
  },
  {
   "cell_type": "markdown",
   "metadata": {},
   "source": [
    "(b) Write a static method rowSums that calculates the sums of each of the rows in a given two-dimensional array and returns these sums in a one-dimensional array. The method has one parameter, a two-dimensional array arr2D of int values. The array is in row-major order: arr2D [ r ] [ c ] is the entry at row r and column c. The method returns a one-dimensional array with one entry for each row of arr2D such that each entry is the sum of the corresponding row in arr2D. As a reminder, each row of a two-dimensional array is a one-dimensional array.\n",
    "\n",
    "For example, if mat1 is the array represented by the following table, the call rowSums(mat1) returns the array {16, 32, 28, 20}.\n",
    "\n",
    "![image](https://github.com/realethantran/ethanBlog/assets/109186517/53728532-a4c6-40b5-8063-49a911ee57b3)\n",
    "\n",
    "![image](https://github.com/realethantran/ethanBlog/assets/109186517/12351d59-7717-43d1-9a00-5de46f42fcdf)\n",
    "\n",
    "Assume that arraySum works as specified, regardless of what you wrote in part (a). You must use arraySum appropriately to receive full credit.\n",
    "\n",
    "Complete method rowSums below."
   ]
  },
  {
   "cell_type": "code",
   "execution_count": 23,
   "metadata": {
    "vscode": {
     "languageId": "java"
    }
   },
   "outputs": [
    {
     "name": "stdout",
     "output_type": "stream",
     "text": [
      "Row sums:\n",
      "16\n",
      "32\n",
      "28\n",
      "20\n"
     ]
    }
   ],
   "source": [
    "public static int[] rowSums(int[][] arr2D) {\n",
    "    int rowCount = arr2D.length; // number of rows in the array\n",
    "    int[] sums = new int[rowCount]; // array to store row sums\n",
    "\n",
    "    for (int i = 0; i < rowCount; i++) { // iterate through each row of the 2D array\n",
    "        int sum = 0;\n",
    "        for (int j = 0; j < arr2D[i].length; j++) { // iterate through each element in the current row\n",
    "            sum += arr2D[i][j]; // add current element to the sum\n",
    "        }\n",
    "        sums[i] = sum; // store the sum of the current row\n",
    "    }\n",
    "\n",
    "    return sums;\n",
    "}\n",
    "int[][] mat1 = { // using array from College Board\n",
    "    {1, 3, 2, 7, 3},\n",
    "    {10, 10, 4, 6, 2},\n",
    "    {5, 3, 5, 9, 6},\n",
    "    {7, 6, 4, 2, 1}\n",
    "};\n",
    "\n",
    "// testing my code :D\n",
    "int[] sums = rowSums(mat1);\n",
    "System.out.println(\"Row sums:\");\n",
    "for (int sum : sums) {\n",
    "    System.out.println(sum);\n",
    "}"
   ]
  },
  {
   "cell_type": "markdown",
   "metadata": {},
   "source": [
    "(c) A two-dimensional array is diverse if no two of its rows have entries that sum to the same value. In the following examples, the array mat1 is diverse because each row sum is different, but the array mat2 is not diverse because the first and last rows have the same sum.\n",
    "\n",
    "![image](https://github.com/realethantran/ethanBlog/assets/109186517/435249c5-0f5a-4e86-a7a3-68675ace37f7)\n",
    "\n",
    "Write a static method isDiverse that determines whether or not a given two-dimensional array is diverse. The method has one parameter: a two-dimensional array arr2D of int values. The method should return true if all the row sums in the given array are unique; otherwise, it should return false. In the arrays shown above, the call isDiverse (mat1) returns true and the call isDiverse(mat2) returns false.\n",
    "\n",
    "![image](https://github.com/realethantran/ethanBlog/assets/109186517/c87092cc-dac0-4f97-8369-82f877da4826)\n",
    "\n",
    "Assume that arraySum and rowSums work as specified, regardless of what you wrote in parts (a) and(b). You must use rowSums appropriately to receive full credit.\n",
    "Complete method isDiverse below."
   ]
  },
  {
   "cell_type": "code",
   "execution_count": 32,
   "metadata": {
    "vscode": {
     "languageId": "java"
    }
   },
   "outputs": [
    {
     "name": "stdout",
     "output_type": "stream",
     "text": [
      "mat1 is...\n"
     ]
    },
    {
     "name": "stdout",
     "output_type": "stream",
     "text": [
      "diverse? true\n",
      "mat2 is...\n",
      "diverse? false\n"
     ]
    }
   ],
   "source": [
    "public static boolean isDiverse(int[][] arr2D) { \n",
    "    Set<Integer> set = new HashSet<>(); // set to store unique row sums\n",
    "    int[] rowSums = rowSums(arr2D); // calculate row sums\n",
    "    for (int sum : rowSums) {\n",
    "        if (!set.add(sum)) { // if sum not added to set, not unique\n",
    "            return false; \n",
    "        }\n",
    "    }\n",
    "    return true; // if sum added to set, is unique\n",
    "}\n",
    "int[][] mat1 = {\n",
    "    {1, 3, 2, 7, 3},\n",
    "    {10, 10, 4, 6, 2},\n",
    "    {5, 3, 5, 9, 6},\n",
    "    {7, 6, 4, 2, 1}\n",
    "};\n",
    "\n",
    "int[][] mat2 = {\n",
    "    {1, 1, 5, 3, 4},\n",
    "    {12, 7, 6, 1, 9},\n",
    "    {8, 11, 10, 2, 5},\n",
    "    {3, 2, 3, 0, 6}\n",
    "};\n",
    "\n",
    "System.out.println(\"mat1 is...\");\n",
    "System.out.println(\"diverse? \" + isDiverse(mat1)); // should be true for mat1\n",
    "System.out.println(\"mat2 is...\");\n",
    "System.out.println(\"diverse? \" + isDiverse(mat2)); // should be true for mat2\n"
   ]
  }
 ],
 "metadata": {
  "kernelspec": {
   "display_name": "Java",
   "language": "java",
   "name": "java"
  },
  "language_info": {
   "codemirror_mode": "java",
   "file_extension": ".jshell",
   "mimetype": "text/x-java-source",
   "name": "Java",
   "pygments_lexer": "java",
   "version": "17.0.8.1+1-Ubuntu-0ubuntu120.04"
  }
 },
 "nbformat": 4,
 "nbformat_minor": 2
}
